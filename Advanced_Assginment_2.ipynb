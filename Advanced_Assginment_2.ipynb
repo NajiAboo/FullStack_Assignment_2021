{
 "cells": [
  {
   "cell_type": "markdown",
   "id": "79e922e3",
   "metadata": {},
   "source": [
    "## Q1. What is the relationship between classes and modules?"
   ]
  },
  {
   "cell_type": "markdown",
   "id": "84007ad2",
   "metadata": {},
   "source": [
    "###  A module in python is simply a way to organize the code, and it contains either python classes or just functions. we can import these classes and the functions.  Class can be part of the module and will able to create objects"
   ]
  },
  {
   "cell_type": "markdown",
   "id": "cfac2272",
   "metadata": {},
   "source": [
    "## Q2. How do you make instances and classes?"
   ]
  },
  {
   "cell_type": "markdown",
   "id": "89b316e3",
   "metadata": {},
   "source": [
    "### To create instances of a class, you call the class using class name and pass in whatever arguments its __init__ method accepts."
   ]
  },
  {
   "cell_type": "markdown",
   "id": "722133fb",
   "metadata": {},
   "source": [
    "## Q3. Where and how should be class attributes created?"
   ]
  },
  {
   "cell_type": "markdown",
   "id": "629dc69e",
   "metadata": {},
   "source": [
    "### Class attributes are attributes which are owned by the class itself. They will be shared by all the instances of the class. Therefore they have the same value for every instance. We define class attributes outside all the methods, usually they are placed at the top, right below the class header."
   ]
  },
  {
   "cell_type": "markdown",
   "id": "5eab6420",
   "metadata": {},
   "source": [
    "## Q4 Where and how are instance attributes created?"
   ]
  },
  {
   "cell_type": "markdown",
   "id": "c0734383",
   "metadata": {},
   "source": [
    "### Instance attributes are defined in the constructor. Defined directly inside a class. Defined inside a constructor using the self parameter."
   ]
  },
  {
   "cell_type": "markdown",
   "id": "5bd054a0",
   "metadata": {},
   "source": [
    "## Q5. What does the term &quot;self&quot; in a Python class mean?"
   ]
  },
  {
   "cell_type": "markdown",
   "id": "70d9e21b",
   "metadata": {},
   "source": [
    "### The self parameter is a reference to the current instance of the class, and is used to access variables that belongs to the class"
   ]
  },
  {
   "cell_type": "markdown",
   "id": "e0008d59",
   "metadata": {},
   "source": [
    "## Q6. How does a Python class handle operator overloading?"
   ]
  },
  {
   "cell_type": "markdown",
   "id": "37d0e9e1",
   "metadata": {},
   "source": [
    "### The operator overloading in Python means provide extended meaning beyond their predefined operational meaning. Such as, we use the \"+\" operator for adding two integers as well as joining two strings or merging two lists. We can achieve this as the \"+\" operator is overloaded by the \"int\" class and \"str\" class"
   ]
  },
  {
   "cell_type": "markdown",
   "id": "7099d017",
   "metadata": {},
   "source": [
    "## Q7. When do you consider allowing operator overloading of your classes?"
   ]
  },
  {
   "cell_type": "markdown",
   "id": "e3856248",
   "metadata": {},
   "source": [
    "### When one or both operands are of a user-defined class or structure type, operator overloading makes it easier to specify user-defined implementation for such operations. This makes user-defined types more similar to the basic primitive data types in terms of behaviour."
   ]
  },
  {
   "cell_type": "markdown",
   "id": "d31506a9",
   "metadata": {},
   "source": [
    "## Q8. What is the most popular form of operator overloading?"
   ]
  },
  {
   "cell_type": "markdown",
   "id": "03da382c",
   "metadata": {},
   "source": [
    "### A very popular and convenient example is the Addition (+) operator. Just think how the '+' operator operates on two numbers and the same operator operates on two strings. It performs “Addition” on numbers whereas it performs “Concatenation” on strings"
   ]
  },
  {
   "cell_type": "markdown",
   "id": "b8704ed2",
   "metadata": {},
   "source": [
    "## Q9. What are the two most important concepts to grasp in order to comprehend Python OOP code?"
   ]
  },
  {
   "cell_type": "markdown",
   "id": "2cd75599",
   "metadata": {},
   "source": [
    "### Both inheritance and polymorphism are fundamental concepts of object oriented programming. These concepts help us to create code that can be extended and easily maintainable\n"
   ]
  },
  {
   "cell_type": "code",
   "execution_count": null,
   "id": "3f899f19",
   "metadata": {},
   "outputs": [],
   "source": []
  }
 ],
 "metadata": {
  "kernelspec": {
   "display_name": "Python 3 (ipykernel)",
   "language": "python",
   "name": "python3"
  },
  "language_info": {
   "codemirror_mode": {
    "name": "ipython",
    "version": 3
   },
   "file_extension": ".py",
   "mimetype": "text/x-python",
   "name": "python",
   "nbconvert_exporter": "python",
   "pygments_lexer": "ipython3",
   "version": "3.10.2"
  }
 },
 "nbformat": 4,
 "nbformat_minor": 5
}

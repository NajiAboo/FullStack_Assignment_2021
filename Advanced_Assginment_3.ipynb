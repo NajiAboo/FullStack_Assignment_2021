{
 "cells": [
  {
   "cell_type": "markdown",
   "id": "4e30c4df",
   "metadata": {},
   "source": [
    "## 1. What is the concept of an abstract superclass?"
   ]
  },
  {
   "cell_type": "markdown",
   "id": "ce8f16f0",
   "metadata": {},
   "source": [
    "### An abstract class is a class, but not one you can create objects from directly. Its purpose is to define how other classes should look like, i.e. what methods and properties they are expected to have."
   ]
  },
  {
   "cell_type": "code",
   "execution_count": null,
   "id": "0ad0f46a",
   "metadata": {},
   "outputs": [],
   "source": []
  },
  {
   "cell_type": "markdown",
   "id": "80ccdcf7",
   "metadata": {},
   "source": [
    "## 2. What happens when a class statement&#39;s top level contains a basic assignment statement?"
   ]
  },
  {
   "cell_type": "markdown",
   "id": "d902fe7b",
   "metadata": {},
   "source": [
    "### It will be a class attribute and it will be global to all the object created"
   ]
  },
  {
   "cell_type": "markdown",
   "id": "86e8445b",
   "metadata": {},
   "source": [
    "### 3. Why does a class need to manually call a superclass&#39;s __init__ method?"
   ]
  },
  {
   "cell_type": "markdown",
   "id": "88a5601c",
   "metadata": {},
   "source": [
    "### The main reason for always calling base class _init__ is that base class may typically create member variable and initialize them to defaults. So if you don't call base class init, none of that code would be executed and you would end up with base class that has no member variables"
   ]
  },
  {
   "cell_type": "markdown",
   "id": "ef9555aa",
   "metadata": {},
   "source": [
    "## 4. How can you augment, instead of completely replacing, an inherited method?"
   ]
  },
  {
   "cell_type": "markdown",
   "id": "0f77c4fb",
   "metadata": {},
   "source": [
    "### We can create a method with same name of parent class method and also, we can call the  parent class method from it"
   ]
  },
  {
   "cell_type": "markdown",
   "id": "6c55a881",
   "metadata": {},
   "source": [
    "### 5. How is the local scope of a class different from that of a function?"
   ]
  },
  {
   "cell_type": "markdown",
   "id": "0bb78f61",
   "metadata": {},
   "source": [
    "###  if WE assign a value to a name inside a function, then that name will have a local Python scope. In contrast, if you assign a value to a name outside of all functions—say, at the top level of a module—then that name will have a global Python scope."
   ]
  },
  {
   "cell_type": "code",
   "execution_count": null,
   "id": "45b17720",
   "metadata": {},
   "outputs": [],
   "source": []
  }
 ],
 "metadata": {
  "kernelspec": {
   "display_name": "Python 3 (ipykernel)",
   "language": "python",
   "name": "python3"
  },
  "language_info": {
   "codemirror_mode": {
    "name": "ipython",
    "version": 3
   },
   "file_extension": ".py",
   "mimetype": "text/x-python",
   "name": "python",
   "nbconvert_exporter": "python",
   "pygments_lexer": "ipython3",
   "version": "3.10.2"
  }
 },
 "nbformat": 4,
 "nbformat_minor": 5
}

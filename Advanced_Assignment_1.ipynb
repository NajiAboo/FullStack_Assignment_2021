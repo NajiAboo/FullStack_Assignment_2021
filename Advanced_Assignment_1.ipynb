{
 "cells": [
  {
   "cell_type": "markdown",
   "id": "d8454e3f",
   "metadata": {},
   "source": [
    "## Q1. What is the purpose of Python&#39;s OOP?"
   ]
  },
  {
   "cell_type": "markdown",
   "id": "8fa626e1",
   "metadata": {},
   "source": [
    "## Answer: In Python , OOP is a programming paradingm that uses objects and classes in programming. It aims to implement real world entities in the programming. Main concpet ot OOPs to bind the data and the functions together as a single unit"
   ]
  },
  {
   "cell_type": "markdown",
   "id": "8c4c79bf",
   "metadata": {},
   "source": [
    "## Q2. Where does an inheritance search look for an attribute?"
   ]
  },
  {
   "cell_type": "markdown",
   "id": "4cd474fb",
   "metadata": {},
   "source": [
    "## Answer: It searched the namespace object at and above object"
   ]
  },
  {
   "cell_type": "markdown",
   "id": "ece7c7a0",
   "metadata": {},
   "source": [
    "## Q3. How do you distinguish between a class object and an instance object?"
   ]
  },
  {
   "cell_type": "markdown",
   "id": "6b0aa609",
   "metadata": {},
   "source": [
    "### When we create a class in python then a class object is created . Class objects provide default behavior and serve as factorial for instance objects. When we call a class, it creates an instance object of that class"
   ]
  },
  {
   "cell_type": "markdown",
   "id": "a5e63234",
   "metadata": {},
   "source": [
    "## Q4. What makes the first argument in a class’s method function special?"
   ]
  },
  {
   "cell_type": "markdown",
   "id": "b1c1b165",
   "metadata": {},
   "source": [
    "### When we call a method, the first argument must be the object . Its passing implicitely . That is why we are declaring self as the first argument\n"
   ]
  },
  {
   "cell_type": "markdown",
   "id": "39129452",
   "metadata": {},
   "source": [
    "## Q5. What is the purpose of the __init__ method?"
   ]
  },
  {
   "cell_type": "markdown",
   "id": "e8b20a8d",
   "metadata": {},
   "source": [
    "### Init method is used to initialize the object attribute"
   ]
  },
  {
   "cell_type": "markdown",
   "id": "c4c72c8e",
   "metadata": {},
   "source": [
    "## Q6. What is the process for creating a class instance?"
   ]
  },
  {
   "cell_type": "markdown",
   "id": "1154ee65",
   "metadata": {},
   "source": [
    "### To create instances of a class, you call the class using class name and pass in whatever arguments its __init__ method accepts."
   ]
  },
  {
   "cell_type": "markdown",
   "id": "a371765f",
   "metadata": {},
   "source": [
    "## Q7. What is the process for creating a class?"
   ]
  },
  {
   "cell_type": "markdown",
   "id": "33a819f4",
   "metadata": {},
   "source": [
    "### python class definition start wtih class keyword"
   ]
  },
  {
   "cell_type": "code",
   "execution_count": 36,
   "id": "17c01803",
   "metadata": {},
   "outputs": [],
   "source": [
    "class TestClass:\n",
    "    def __init__(self):\n",
    "        pass\n",
    "    "
   ]
  },
  {
   "cell_type": "markdown",
   "id": "3dea5f38",
   "metadata": {},
   "source": [
    "## Q8. How would you define the superclasses of a class?"
   ]
  },
  {
   "cell_type": "markdown",
   "id": "07febd60",
   "metadata": {},
   "source": [
    "### A superclass is the class from which many subclasses can be created. The subclasses inherit the characteristics of a superclass."
   ]
  },
  {
   "cell_type": "code",
   "execution_count": 46,
   "id": "4d80cdf2",
   "metadata": {},
   "outputs": [],
   "source": [
    "class parent:\n",
    "    def __init__(self, name):      \n",
    "        pass"
   ]
  },
  {
   "cell_type": "code",
   "execution_count": 51,
   "id": "c644f02d",
   "metadata": {},
   "outputs": [],
   "source": [
    "class child(parent):\n",
    "    def __init__(self):\n",
    "        pass\n",
    "  "
   ]
  },
  {
   "cell_type": "code",
   "execution_count": 52,
   "id": "27e8de01",
   "metadata": {},
   "outputs": [],
   "source": [
    "c = child()"
   ]
  },
  {
   "cell_type": "code",
   "execution_count": null,
   "id": "1e5be79c",
   "metadata": {},
   "outputs": [],
   "source": []
  }
 ],
 "metadata": {
  "kernelspec": {
   "display_name": "Python 3 (ipykernel)",
   "language": "python",
   "name": "python3"
  },
  "language_info": {
   "codemirror_mode": {
    "name": "ipython",
    "version": 3
   },
   "file_extension": ".py",
   "mimetype": "text/x-python",
   "name": "python",
   "nbconvert_exporter": "python",
   "pygments_lexer": "ipython3",
   "version": "3.10.2"
  }
 },
 "nbformat": 4,
 "nbformat_minor": 5
}

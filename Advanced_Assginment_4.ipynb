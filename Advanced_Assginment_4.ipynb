{
 "cells": [
  {
   "cell_type": "markdown",
   "id": "8217c4a9",
   "metadata": {},
   "source": [
    "## Q1. Which two operator overloading methods can you use in your classes to support iteration?\n",
    "\n"
   ]
  },
  {
   "cell_type": "code",
   "execution_count": 12,
   "id": "a89f85ec",
   "metadata": {},
   "outputs": [],
   "source": [
    "# The __iter__ returns the iterator object and is implicitly called at the start of loops. The __next__ method returns the next value and is implicitly called at each loop increment. __next__ raises a StopIteration exception when there are no more value to return, which is implicitly captured by looping constructs to stop iterating"
   ]
  },
  {
   "cell_type": "markdown",
   "id": "33070302",
   "metadata": {},
   "source": [
    "## Q2. In what contexts do the two operator overloading methods manage printing?\n"
   ]
  },
  {
   "cell_type": "code",
   "execution_count": 9,
   "id": "15269cd7",
   "metadata": {},
   "outputs": [],
   "source": [
    "\n",
    "# \"__str__() \" and \"__repr__()\"  used to print the method"
   ]
  },
  {
   "cell_type": "markdown",
   "id": "69bd3fda",
   "metadata": {},
   "source": [
    "## Q3. In a class, how do you intercept slice operations?\n"
   ]
  },
  {
   "cell_type": "code",
   "execution_count": 11,
   "id": "3a7f2542",
   "metadata": {},
   "outputs": [],
   "source": [
    "### _getitem_ is used for it"
   ]
  },
  {
   "cell_type": "markdown",
   "id": "0dc50fad",
   "metadata": {},
   "source": [
    "## Q4. In a class, how do you capture in-place addition?\n"
   ]
  },
  {
   "cell_type": "code",
   "execution_count": null,
   "id": "9a6b68ce",
   "metadata": {},
   "outputs": [],
   "source": []
  },
  {
   "cell_type": "markdown",
   "id": "cf252f25",
   "metadata": {},
   "source": [
    "## Q5. When is it appropriate to use operator overloading?"
   ]
  },
  {
   "cell_type": "code",
   "execution_count": 2,
   "id": "d74f1c11",
   "metadata": {},
   "outputs": [],
   "source": [
    "## Operator overloading is mostly useful when you're making a new class that falls into an existing \"Abstract Base Class\" (ABC) -"
   ]
  },
  {
   "cell_type": "code",
   "execution_count": null,
   "id": "e6bd8edb",
   "metadata": {},
   "outputs": [],
   "source": []
  }
 ],
 "metadata": {
  "kernelspec": {
   "display_name": "Python 3 (ipykernel)",
   "language": "python",
   "name": "python3"
  },
  "language_info": {
   "codemirror_mode": {
    "name": "ipython",
    "version": 3
   },
   "file_extension": ".py",
   "mimetype": "text/x-python",
   "name": "python",
   "nbconvert_exporter": "python",
   "pygments_lexer": "ipython3",
   "version": "3.10.2"
  }
 },
 "nbformat": 4,
 "nbformat_minor": 5
}
